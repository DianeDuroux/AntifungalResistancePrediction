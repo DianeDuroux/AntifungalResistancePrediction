{
 "cells": [
  {
   "cell_type": "code",
   "execution_count": 1,
   "id": "e08ecc7d-2d04-4aa8-b4fe-ac27481c1e53",
   "metadata": {},
   "outputs": [],
   "source": [
    "#Load libraries\n",
    "import sys\n",
    "from pathlib import Path\n",
    "\n",
    "#Set path\n",
    "working_dir=\"/Users/diane/Documents/2025/Fungi/github\" #Working directory\n",
    "\n",
    "#Default paths\n",
    "original_data_path = f\"{working_dir}/data/fungi_DRIAMS_AC_SMILE.csv\"  # Raw input dataset\n",
    "processed_data_path = f\"{working_dir}/data/fungi_DRIAMS_AC_SMILE_processed.csv\"  # Preprocessed dataset\n",
    "nested_folds_path = f\"{working_dir}/data/nested_folds.pkl\"  # File storing validation split\n",
    "deployment_path = f\"{working_dir}/data/data_deployement.csv\"  # Test dataset for deployment\n",
    "\n",
    "# Load user-defined functions from the 'functions.py' module in the project directory\n",
    "sys.path.append(working_dir)\n",
    "import functions\n",
    "\n",
    "# Define additional paths for storing results and plots\n",
    "working_dir = Path(working_dir)\n",
    "data_dir=working_dir / \"data\"\n",
    "intermediate_results_dir=working_dir / \"intermediate_results\"\n",
    "plot_dir = working_dir / \"plot\"\n",
    "results_directory=working_dir / \"results\"\n",
    "\n",
    "# Create output directories\n",
    "dirs = functions.create_output_directories(working_dir)"
   ]
  },
  {
   "cell_type": "code",
   "execution_count": null,
   "id": "ce6f88ab-8325-4fcf-8910-5a64f723af73",
   "metadata": {},
   "outputs": [],
   "source": [
    "#Unzip and merge input data\n",
    "functions.merge_fungi_data(\n",
    "    work_dir=data_dir,\n",
    "    albican_zip=\"data_albican.parquet.zip\",\n",
    "    non_albican_zip=\"data_non_albican.parquet.zip\",\n",
    "    maccs_file=\"maccs.csv\",\n",
    "    smiles_file=\"smiles.csv\",\n",
    "    output_maccs_csv=\"fungi_DRIAMS_AC_MACCS.csv\",\n",
    "    output_smiles_csv=\"fungi_DRIAMS_AC_SMILE.csv\"\n",
    ")"
   ]
  },
  {
   "cell_type": "code",
   "execution_count": null,
   "id": "d9883a4d-c653-4cf5-99c9-ecee22a41273",
   "metadata": {},
   "outputs": [],
   "source": [
    "# Run the preprocessing pipeline on the original data\n",
    "# Cleaning and splitting into train/test with nested cross-validation setup.\n",
    "functions.full_fungi_data_pipeline(\n",
    "    file_path=original_data_path,\n",
    "    processed_data_save_path=processed_data_path,\n",
    "    plots_dir=plot_dir,\n",
    "    nested_folds_save_path=nested_folds_path,\n",
    "    final_data_dir=data_dir\n",
    ")"
   ]
  },
  {
   "cell_type": "code",
   "execution_count": null,
   "id": "98402290-4403-40d1-beb6-3fe2e6af3324",
   "metadata": {},
   "outputs": [],
   "source": [
    "# Execute the model training pipeline using nested cross-validation.\n",
    "# This step trains and evaluates all models mentionned in the paper using specified preprocessing options and hyperparameter grids.\n",
    "# Results are saved in the intermediate results directory.\n",
    "# Note: This process can take several days. See the next cell for a shorter example.\n",
    "functions.run_nested_cv_pipeline(\n",
    "    data_path=processed_data_path,\n",
    "    nested_folds_path=nested_folds_path,\n",
    "    results_dir=intermediate_results_dir,\n",
    "    feature_removals=['sample_id', 'dataset', 'response', 'drug', 'species', 'drug_class', 'year', 'pathogen_class'],\n",
    "    preprocessing_options='default', # Use all default preprocessing steps\n",
    "    model_grids='default',  # Use all default model settings and hyperparameter grids\n",
    "    functions=functions # Pass the imported functions module\n",
    ")"
   ]
  },
  {
   "cell_type": "code",
   "execution_count": null,
   "id": "34909af3-8d91-427b-b5d7-5b983540360d",
   "metadata": {},
   "outputs": [],
   "source": [
    "# Run nested cross-validation using a specific preprocessing technique (PCA) and a specific ML model (Neural Network)\n",
    "functions.run_nested_cv_pipeline(\n",
    "    data_path=processed_data_path,\n",
    "    nested_folds_path=nested_folds_path,\n",
    "    results_dir=intermediate_results_dir,\n",
    "    feature_removals=['sample_id', 'dataset', 'response', 'drug', 'species', 'drug_class', 'year', 'pathogen_class'], # Columns to exclude\n",
    "    preprocessing_options={\n",
    "        'PCA': {\n",
    "            'func': functions.pca_MS, # PCA function\n",
    "            'params': {'n_components': [0.95, 0.99]} # Retain 95% or 99% variance\n",
    "        }\n",
    "    },\n",
    "    model_grids={\n",
    "        'Neural Network': {\n",
    "            'model': functions.MLPClassifier(), # Multi-layer perceptron\n",
    "            'params': {\n",
    "                'model__hidden_layer_sizes': [(50, 50)],\n",
    "                'model__activation': ['relu', 'tanh'],\n",
    "                'model__alpha': [0.0001],\n",
    "                'model__max_iter': [1000]\n",
    "            }\n",
    "        }\n",
    "    },\n",
    "    functions=functions\n",
    ")"
   ]
  },
  {
   "cell_type": "code",
   "execution_count": null,
   "id": "2728481e-b6d1-4f0f-aaed-99f8541f53f2",
   "metadata": {},
   "outputs": [],
   "source": [
    "# Summarize model performance metrics and generate plots\n",
    "functions.summarize_and_plot_results(\n",
    "    intermediate_results_dir=intermediate_results_dir,\n",
    "    results_dir=results_directory,\n",
    "    plot_dir=plot_dir,\n",
    "    functions=functions\n",
    ")"
   ]
  },
  {
   "cell_type": "code",
   "execution_count": null,
   "id": "dd4c97e0-73c7-4993-9baa-f0ca689bead8",
   "metadata": {},
   "outputs": [],
   "source": [
    "#Run and compare models per drug, species, drug-species, or leveraging all observations\n",
    "functions.run_and_evaluate_model_across_views(\n",
    "    data_path=processed_data_path,\n",
    "    nested_folds_path=nested_folds_path,\n",
    "    best_model=functions.MLPClassifier(\n",
    "        hidden_layer_sizes=(50, 50),\n",
    "        max_iter=1000,\n",
    "        activation='tanh',\n",
    "        alpha=0.0001,\n",
    "        random_state=42\n",
    "    ),\n",
    "    best_preproc_func=functions.pca_MS,\n",
    "    best_preproc_params={'n_components': 0.99},\n",
    "    feature_removals=['sample_id', 'dataset', 'response', 'drug', 'species','drug_class', 'year', 'pathogen_class'],\n",
    "    feature_removals_withoutDrugClass=['sample_id', 'dataset', 'response', 'drug', 'species','year', 'pathogen_class'],\n",
    "    min_samples=0,\n",
    "    results_directory=results_directory,\n",
    "    functions=functions\n",
    ")\n"
   ]
  },
  {
   "cell_type": "code",
   "execution_count": null,
   "id": "2da303cc-d74b-412b-85d6-690235fc8d3e",
   "metadata": {},
   "outputs": [],
   "source": [
    "# Analyze model performance across species-drug combinations\n",
    "# Generates plots and highlights cases above a threshold MCC score\n",
    "results = functions.analyze_species_drug_performance(\n",
    "    results_directory=results_directory,\n",
    "    functions=functions,\n",
    "    mcc_threshold=0.4\n",
    ")"
   ]
  },
  {
   "cell_type": "code",
   "execution_count": null,
   "id": "ed2a513c-914d-4d38-9498-6726e76b7554",
   "metadata": {},
   "outputs": [],
   "source": [
    "# Generate SHAP values for selected species-drug cases\n",
    "functions.generate_shap_explanations_for_selected_cases(\n",
    "    data_path=processed_data_path,\n",
    "    deployment_path=deployment_path,\n",
    "    output_dir=results_directory,\n",
    "    functions=functions,\n",
    "    best_model=functions.MLPClassifier(\n",
    "        hidden_layer_sizes=(50, 50),\n",
    "        max_iter=1000,\n",
    "        activation='tanh',\n",
    "        alpha=0.0001,\n",
    "        random_state=42\n",
    "    ),\n",
    "    best_preproc_func=functions.pca_MS,\n",
    "    best_preproc_params={'n_components': 0.99},\n",
    "    feature_removals=['sample_id', 'dataset', 'response', 'drug', 'species', 'drug_class', 'year', 'pathogen_class'],\n",
    "    species_drug_filter=[\n",
    "        (\"candida albicans\", \"Micafungin\"),\n",
    "        (\"candida parapsilosis\", \"Fluconazole\"),\n",
    "        (\"saccharomyces cerevisiae\", \"Itraconazole\"),\n",
    "        (\"saccharomyces cerevisiae\", \"Fluconazole\"),\n",
    "        (\"candida tropicalis\", \"Posaconazole\")\n",
    "    ],\n",
    "    top_n_features=500\n",
    ")"
   ]
  }
 ],
 "metadata": {
  "kernelspec": {
   "display_name": "Python 3 (ipykernel)",
   "language": "python",
   "name": "python3"
  },
  "language_info": {
   "codemirror_mode": {
    "name": "ipython",
    "version": 3
   },
   "file_extension": ".py",
   "mimetype": "text/x-python",
   "name": "python",
   "nbconvert_exporter": "python",
   "pygments_lexer": "ipython3",
   "version": "3.11.10"
  }
 },
 "nbformat": 4,
 "nbformat_minor": 5
}
