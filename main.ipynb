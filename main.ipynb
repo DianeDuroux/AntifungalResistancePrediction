{
 "cells": [
  {
   "cell_type": "code",
   "execution_count": 1,
   "id": "e08ecc7d-2d04-4aa8-b4fe-ac27481c1e53",
   "metadata": {},
   "outputs": [],
   "source": [
    "#Load libraries\n",
    "import sys\n",
    "from pathlib import Path\n",
    "\n",
    "#Set paths\n",
    "working_dir=\"/Users/diane/Documents/2025/Fungi/github\" #Working directory\n",
    "original_data_path=\"/Users/diane/Documents/2025/Fungi/github/data/fungi_DRIAMS_AC_SMILE.csv\" #Path to fungal data (DRIAMS) \n",
    "processed_data_path=\"/Users/diane/Documents/2025/Fungi/github/data/fungi_DRIAMS_AC_SMILE_processed.csv\" #Path to fungal data (DRIAMS) \n",
    "nested_folds_path=\"/Users/diane/Documents/2025/Fungi/github/data/nested_folds.pkl\" #Nested cross validation split\n",
    "deployment_path=\"/Users/diane/Documents/2025/Fungi/github/data/data_deployement.csv\" #Test data\n",
    "external_validation=\"/Users/diane/Documents/2025/Fungi/github/data/MS_UMG_fungi_mergedAC_full_SMILE_preprocess.csv\" #MS UMG data\n",
    "\n",
    "#Load functions\n",
    "sys.path.append(working_dir)\n",
    "import functions\n",
    "\n",
    "#Set result paths\n",
    "working_dir = Path(working_dir)\n",
    "data_dir=working_dir / \"data\"\n",
    "intermediate_results_dir=working_dir / \"intermediate_results\"\n",
    "plot_dir = working_dir / \"plot\"\n",
    "results_directory=working_dir / \"results\"\n",
    "\n",
    "#Create additional folders for results\n",
    "dirs = functions.create_output_directories(working_dir)"
   ]
  },
  {
   "cell_type": "code",
   "execution_count": null,
   "id": "d9883a4d-c653-4cf5-99c9-ecee22a41273",
   "metadata": {},
   "outputs": [],
   "source": [
    "#Preprocess data and create splits for training/test and nested-cross validation within the training set\n",
    "functions.full_fungi_data_pipeline(\n",
    "    file_path=original_data_path,\n",
    "    processed_data_save_path=processed_data_path,\n",
    "    plots_dir=plot_dir,\n",
    "    nested_folds_save_path=nested_folds_path,\n",
    "    final_data_dir=data_dir\n",
    ")"
   ]
  },
  {
   "cell_type": "code",
   "execution_count": null,
   "id": "98402290-4403-40d1-beb6-3fe2e6af3324",
   "metadata": {},
   "outputs": [],
   "source": [
    "#Run all preprocessing techniques and models mentionned in the paper (nested cross validation in Set 1)\n",
    "#(Note: Can take a long time)\n",
    "functions.run_nested_cv_pipeline(\n",
    "    data_path=processed_data_path,\n",
    "    nested_folds_path=nested_folds_path,\n",
    "    results_dir=intermediate_results_dir,\n",
    "    feature_removals=['sample_id', 'dataset', 'response', 'drug', 'species', 'drug_class', 'year', 'pathogen_class'],\n",
    "    preprocessing_options='default',\n",
    "    model_grids='default',\n",
    "    functions=functions\n",
    ")"
   ]
  },
  {
   "cell_type": "code",
   "execution_count": null,
   "id": "34909af3-8d91-427b-b5d7-5b983540360d",
   "metadata": {},
   "outputs": [],
   "source": [
    "#Example with only one preprocessing technique and one ML model (nested cross validation in Set 1)\n",
    "functions.run_nested_cv_pipeline(\n",
    "    data_path=processed_data_path,\n",
    "    nested_folds_path=nested_folds_path,\n",
    "    results_dir=intermediate_results_dir,\n",
    "    feature_removals=['sample_id', 'dataset', 'response', 'drug', 'species', 'drug_class', 'year', 'pathogen_class'],\n",
    "    preprocessing_options={\n",
    "        'PCA': {\n",
    "            'func': functions.pca_MS,\n",
    "            'params': {'n_components': [0.95, 0.99]}\n",
    "        }\n",
    "    },\n",
    "    model_grids={\n",
    "        'Neural Network': {\n",
    "            'model': functions.MLPClassifier(),\n",
    "            'params': {\n",
    "                'model__hidden_layer_sizes': [(50, 50)],\n",
    "                'model__activation': ['relu', 'tanh'],\n",
    "                'model__alpha': [0.0001],\n",
    "                'model__max_iter': [1000]\n",
    "            }\n",
    "        }\n",
    "    },\n",
    "    functions=functions\n",
    ")"
   ]
  },
  {
   "cell_type": "code",
   "execution_count": null,
   "id": "2728481e-b6d1-4f0f-aaed-99f8541f53f2",
   "metadata": {},
   "outputs": [],
   "source": [
    "#Summarize and plot results\n",
    "functions.summarize_and_plot_results(\n",
    "    intermediate_results_dir=intermediate_results_dir,\n",
    "    results_dir=results_directory,\n",
    "    plot_dir=plot_dir,\n",
    "    functions=functions\n",
    ")"
   ]
  },
  {
   "cell_type": "code",
   "execution_count": null,
   "id": "dd4c97e0-73c7-4993-9baa-f0ca689bead8",
   "metadata": {},
   "outputs": [],
   "source": [
    "#Run and compare models per drug, species, drug-species and unified\n",
    "functions.run_and_evaluate_model_across_views(\n",
    "    data_path=processed_data_path,\n",
    "    nested_folds_path=nested_folds_path,\n",
    "    best_model=functions.MLPClassifier(\n",
    "        hidden_layer_sizes=(50, 50),\n",
    "        max_iter=1000,\n",
    "        activation='tanh',\n",
    "        alpha=0.0001,\n",
    "        random_state=42\n",
    "    ),\n",
    "    best_preproc_func=functions.pca_MS,\n",
    "    best_preproc_params={'n_components': 0.99},\n",
    "    feature_removals=['sample_id', 'dataset', 'response', 'drug', 'species','drug_class', 'year', 'pathogen_class'],\n",
    "    feature_removals_withoutDrugClass=['sample_id', 'dataset', 'response', 'drug', 'species','year', 'pathogen_class'],\n",
    "    min_samples=0,\n",
    "    results_directory=results_directory,\n",
    "    functions=functions\n",
    ")\n"
   ]
  },
  {
   "cell_type": "code",
   "execution_count": null,
   "id": "2da303cc-d74b-412b-85d6-690235fc8d3e",
   "metadata": {},
   "outputs": [],
   "source": [
    "#Plot the resutls\n",
    "results = functions.analyze_species_drug_performance(\n",
    "    results_directory=results_directory,\n",
    "    functions=functions,\n",
    "    mcc_threshold=0.4\n",
    ")"
   ]
  },
  {
   "cell_type": "code",
   "execution_count": null,
   "id": "ed2a513c-914d-4d38-9498-6726e76b7554",
   "metadata": {},
   "outputs": [],
   "source": [
    "#Biological markers\n",
    "functions.generate_shap_explanations_for_selected_cases(\n",
    "    data_path=processed_data_path,\n",
    "    deployment_path=deployment_path,\n",
    "    output_dir=results_directory,\n",
    "    functions=functions,\n",
    "    best_model=functions.MLPClassifier(\n",
    "        hidden_layer_sizes=(50, 50),\n",
    "        max_iter=1000,\n",
    "        activation='tanh',\n",
    "        alpha=0.0001,\n",
    "        random_state=42\n",
    "    ),\n",
    "    best_preproc_func=functions.pca_MS,\n",
    "    best_preproc_params={'n_components': 0.99},\n",
    "    feature_removals=['sample_id', 'dataset', 'response', 'drug', 'species', 'drug_class', 'year', 'pathogen_class'],\n",
    "    species_drug_filter=[\n",
    "        #(\"candida albicans\", \"Micafungin\"),\n",
    "        #(\"candida parapsilosis\", \"Fluconazole\"),\n",
    "        (\"saccharomyces cerevisiae\", \"Itraconazole\"),\n",
    "        #(\"saccharomyces cerevisiae\", \"Fluconazole\"),\n",
    "        (\"candida tropicalis\", \"Posaconazole\")\n",
    "    ],\n",
    "    top_n_features=500\n",
    ")"
   ]
  }
 ],
 "metadata": {
  "kernelspec": {
   "display_name": "Python 3 (ipykernel)",
   "language": "python",
   "name": "python3"
  },
  "language_info": {
   "codemirror_mode": {
    "name": "ipython",
    "version": 3
   },
   "file_extension": ".py",
   "mimetype": "text/x-python",
   "name": "python",
   "nbconvert_exporter": "python",
   "pygments_lexer": "ipython3",
   "version": "3.11.10"
  }
 },
 "nbformat": 4,
 "nbformat_minor": 5
}
